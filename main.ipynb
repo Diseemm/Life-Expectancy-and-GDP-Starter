{
 "cells": [
  {
   "cell_type": "code",
   "execution_count": null,
   "source": [
    "import pandas as pd\r\n",
    "import numpy as np\r\n",
    "from matplotlib import pyplot as pyplot\r\n",
    "import seaborn as sns"
   ],
   "outputs": [],
   "metadata": {}
  },
  {
   "cell_type": "code",
   "execution_count": 9,
   "source": [
    "df = pd.read_csv('all_data.csv')\r\n",
    "print(df.head(25))"
   ],
   "outputs": [
    {
     "output_type": "stream",
     "name": "stdout",
     "text": [
      "   Country  Year  Life expectancy at birth (years)           GDP\n",
      "0    Chile  2000                              77.3  7.786093e+10\n",
      "1    Chile  2001                              77.3  7.097992e+10\n",
      "2    Chile  2002                              77.8  6.973681e+10\n",
      "3    Chile  2003                              77.9  7.564346e+10\n",
      "4    Chile  2004                              78.0  9.921039e+10\n",
      "5    Chile  2005                              78.4  1.229650e+11\n",
      "6    Chile  2006                              78.9  1.547880e+11\n",
      "7    Chile  2007                              78.9  1.736060e+11\n",
      "8    Chile  2008                              79.6  1.796380e+11\n",
      "9    Chile  2009                              79.3  1.723890e+11\n",
      "10   Chile  2010                              79.1  2.185380e+11\n",
      "11   Chile  2011                              79.8  2.522520e+11\n",
      "12   Chile  2012                              79.9  2.671220e+11\n",
      "13   Chile  2013                              80.1  2.783840e+11\n",
      "14   Chile  2014                              80.3  2.609900e+11\n",
      "15   Chile  2015                              80.5  2.425180e+11\n",
      "16   China  2000                              71.7  1.211350e+12\n",
      "17   China  2001                              72.2  1.339400e+12\n",
      "18   China  2002                              72.7  1.470550e+12\n",
      "19   China  2003                              73.1  1.660290e+12\n",
      "20   China  2004                              73.5  1.955350e+12\n",
      "21   China  2005                              73.9  2.285970e+12\n",
      "22   China  2006                              74.2  2.752130e+12\n",
      "23   China  2007                              74.4  3.552180e+12\n",
      "24   China  2008                              74.5  4.598210e+12\n"
     ]
    }
   ],
   "metadata": {}
  },
  {
   "cell_type": "code",
   "execution_count": 8,
   "source": [
    "unique_country = df.Country.unique()\r\n",
    "print(unique_country)"
   ],
   "outputs": [
    {
     "output_type": "stream",
     "name": "stdout",
     "text": [
      "['Chile' 'China' 'Germany' 'Mexico' 'United States of America' 'Zimbabwe']\n"
     ]
    }
   ],
   "metadata": {}
  },
  {
   "cell_type": "code",
   "execution_count": 10,
   "source": [
    "years = df.Year.unique()\r\n",
    "print(years)"
   ],
   "outputs": [
    {
     "output_type": "stream",
     "name": "stdout",
     "text": [
      "[2000 2001 2002 2003 2004 2005 2006 2007 2008 2009 2010 2011 2012 2013\n",
      " 2014 2015]\n"
     ]
    }
   ],
   "metadata": {}
  },
  {
   "cell_type": "code",
   "execution_count": 11,
   "source": [
    "avg_year = df['Life expectancy at birth (years)'].mean()\r\n",
    "print(avg_year)"
   ],
   "outputs": [
    {
     "output_type": "stream",
     "name": "stdout",
     "text": [
      "72.78958333333335\n"
     ]
    }
   ],
   "metadata": {}
  },
  {
   "cell_type": "code",
   "execution_count": 16,
   "source": [
    "avg_gdp = df['GDP'].mean()\r\n",
    "print(f'${round(avg_gdp)}')"
   ],
   "outputs": [
    {
     "output_type": "stream",
     "name": "stdout",
     "text": [
      "$3880498570768\n"
     ]
    }
   ],
   "metadata": {}
  },
  {
   "cell_type": "code",
   "execution_count": 20,
   "source": [
    "max_gdp = df['GDP'].max()\r\n",
    "min_gdp = df['GDP'].min()\r\n",
    "print(f'Max: ${round(max_gdp)}, Min: ${round(min_gdp)}')"
   ],
   "outputs": [
    {
     "output_type": "stream",
     "name": "stdout",
     "text": [
      "Max: $18100000000000, Min: $4415702800\n"
     ]
    }
   ],
   "metadata": {}
  },
  {
   "cell_type": "code",
   "execution_count": 21,
   "source": [
    "max_year = df['Life expectancy at birth (years)'].max()\r\n",
    "min_year = df['Life expectancy at birth (years)'].min()\r\n",
    "print(f'Max: {max_year}, Min: {min_year}')"
   ],
   "outputs": [
    {
     "output_type": "stream",
     "name": "stdout",
     "text": [
      "Max: 81.0, Min: 44.3\n"
     ]
    }
   ],
   "metadata": {}
  }
 ],
 "metadata": {
  "orig_nbformat": 4,
  "language_info": {
   "name": "python"
  }
 },
 "nbformat": 4,
 "nbformat_minor": 2
}